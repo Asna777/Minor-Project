{
  "nbformat": 4,
  "nbformat_minor": 0,
  "metadata": {
    "colab": {
      "name": "Image Classification.ipynb",
      "provenance": [],
      "collapsed_sections": [],
      "mount_file_id": "1QALkJucrY71oRX76ODYIeEEedGGgIX6p",
      "authorship_tag": "ABX9TyO9e1iAqAhxIP7G0uVvGAUK",
      "include_colab_link": true
    },
    "kernelspec": {
      "name": "python3",
      "display_name": "Python 3"
    },
    "language_info": {
      "name": "python"
    }
  },
  "cells": [
    {
      "cell_type": "markdown",
      "metadata": {
        "id": "view-in-github",
        "colab_type": "text"
      },
      "source": [
        "<a href=\"https://colab.research.google.com/github/Asna777/Minor-Project/blob/main/Image_Classification.ipynb\" target=\"_parent\"><img src=\"https://colab.research.google.com/assets/colab-badge.svg\" alt=\"Open In Colab\"/></a>"
      ]
    },
    {
      "cell_type": "code",
      "metadata": {
        "id": "T3JcGsm6NRip",
        "colab": {
          "base_uri": "https://localhost:8080/"
        },
        "outputId": "e72c35b9-fde7-43d8-c6d7-c47dc2c4d35e"
      },
      "source": [
        "!pip install bing-image-downloader"
      ],
      "execution_count": 28,
      "outputs": [
        {
          "output_type": "stream",
          "text": [
            "Requirement already satisfied: bing-image-downloader in /usr/local/lib/python3.7/dist-packages (1.0.4)\n"
          ],
          "name": "stdout"
        }
      ]
    },
    {
      "cell_type": "code",
      "metadata": {
        "id": "nNQk8DnOCBVU",
        "colab": {
          "base_uri": "https://localhost:8080/"
        },
        "outputId": "9bc506c5-ee55-4532-c4b0-c96b8b9e827e"
      },
      "source": [
        "!mkdir images"
      ],
      "execution_count": 29,
      "outputs": [
        {
          "output_type": "stream",
          "text": [
            "mkdir: cannot create directory ‘images’: File exists\n"
          ],
          "name": "stdout"
        }
      ]
    },
    {
      "cell_type": "code",
      "metadata": {
        "colab": {
          "base_uri": "https://localhost:8080/"
        },
        "id": "4Ieoqy_JK1xn",
        "outputId": "3579433c-8fd4-4d37-a8be-aaa02d35ab30"
      },
      "source": [
        "from bing_image_downloader import downloader\n",
        "downloader.download(\"cats image\",limit=30,output_dir='images',adult_filter_off=True)"
      ],
      "execution_count": 30,
      "outputs": [
        {
          "output_type": "stream",
          "text": [
            "\n",
            "\n",
            "[!!]Indexing page: 1\n",
            "\n",
            "[%] Indexed 12 Images on Page 1.\n",
            "\n",
            "===============================================\n",
            "\n",
            "[%] Downloading Image #1 from https://cdn.designbump.com/wp-content/uploads/2014/09/funny-jumping-cats-94__880.jpg\n",
            "[%] File Downloaded !\n",
            "\n",
            "[%] Downloading Image #2 from http://wanna-joke.com/wp-content/uploads/2013/11/funny-picture-monday-morning-workout.jpg\n",
            "[%] File Downloaded !\n",
            "\n",
            "[%] Downloading Image #3 from http://lomets.com/wp-content/uploads/2016/06/97ac2c45590d8448fcca888f83ccf8f9.jpg\n",
            "[%] File Downloaded !\n",
            "\n",
            "[%] Downloading Image #4 from http://www.trendzified.net/wp-content/uploads/2014/10/upnqw-cats7.jpg\n",
            "[%] File Downloaded !\n",
            "\n",
            "[%] Downloading Image #5 from https://ruinmyweek.com/wp-content/uploads/2017/05/funny-photos-of-dogs-afraid-of-funny-things-dog-on-owners-back-scared-of-vacuum.jpeg\n",
            "[%] File Downloaded !\n",
            "\n",
            "[%] Downloading Image #6 from https://i.chzbgr.com/original/7162250240/h8C52629F/cheezburger-image-7162250240\n",
            "[%] File Downloaded !\n",
            "\n",
            "[%] Downloading Image #7 from http://www.top13.net/wp-content/uploads/2017/03/lazy-cats-5.jpg\n",
            "[%] File Downloaded !\n",
            "\n",
            "[%] Downloading Image #8 from http://themindcircle.com/wp-content/uploads/2017/08/creative-street-art-positive-vandalism-8.jpg\n",
            "[%] File Downloaded !\n",
            "\n",
            "[%] Downloading Image #9 from https://www.viraltrix.com/wp-content/uploads/2015/10/senorito-gato.jpg\n",
            "[%] File Downloaded !\n",
            "\n",
            "[%] Downloading Image #10 from http://www.funcage.com/blog/wp-content/uploads/2013/01/Daily-Dose-of-Cats-013-550x733.jpg\n",
            "[%] File Downloaded !\n",
            "\n",
            "[%] Downloading Image #11 from https://imagenesnoticias.com/wp-content/uploads/2016/02/e5d8ae6d0ba1d115ab9664c2a43577cb.jpg\n",
            "[%] File Downloaded !\n",
            "\n",
            "[%] Downloading Image #12 from https://viralcats.net/blog/wp-content/uploads/2017/10/10-12.jpg\n",
            "[%] File Downloaded !\n",
            "\n",
            "\n",
            "\n",
            "[!!]Indexing page: 2\n",
            "\n",
            "[%] Indexed 12 Images on Page 2.\n",
            "\n",
            "===============================================\n",
            "\n",
            "[%] Downloading Image #13 from https://cdn.designbump.com/wp-content/uploads/2014/09/funny-jumping-cats-94__880.jpg\n",
            "[%] File Downloaded !\n",
            "\n",
            "[%] Downloading Image #14 from http://wanna-joke.com/wp-content/uploads/2013/11/funny-picture-monday-morning-workout.jpg\n",
            "[%] File Downloaded !\n",
            "\n",
            "[%] Downloading Image #15 from http://lomets.com/wp-content/uploads/2016/06/97ac2c45590d8448fcca888f83ccf8f9.jpg\n",
            "[%] File Downloaded !\n",
            "\n",
            "[%] Downloading Image #16 from http://www.trendzified.net/wp-content/uploads/2014/10/upnqw-cats7.jpg\n",
            "[%] File Downloaded !\n",
            "\n",
            "[%] Downloading Image #17 from https://ruinmyweek.com/wp-content/uploads/2017/05/funny-photos-of-dogs-afraid-of-funny-things-dog-on-owners-back-scared-of-vacuum.jpeg\n",
            "[%] File Downloaded !\n",
            "\n",
            "[%] Downloading Image #18 from https://i.chzbgr.com/original/7162250240/h8C52629F/cheezburger-image-7162250240\n",
            "[%] File Downloaded !\n",
            "\n",
            "[%] Downloading Image #19 from http://www.top13.net/wp-content/uploads/2017/03/lazy-cats-5.jpg\n",
            "[%] File Downloaded !\n",
            "\n",
            "[%] Downloading Image #20 from http://themindcircle.com/wp-content/uploads/2017/08/creative-street-art-positive-vandalism-8.jpg\n",
            "[%] File Downloaded !\n",
            "\n",
            "[%] Downloading Image #21 from https://www.viraltrix.com/wp-content/uploads/2015/10/senorito-gato.jpg\n",
            "[%] File Downloaded !\n",
            "\n",
            "[%] Downloading Image #22 from http://www.funcage.com/blog/wp-content/uploads/2013/01/Daily-Dose-of-Cats-013-550x733.jpg\n",
            "[%] File Downloaded !\n",
            "\n",
            "[%] Downloading Image #23 from https://imagenesnoticias.com/wp-content/uploads/2016/02/e5d8ae6d0ba1d115ab9664c2a43577cb.jpg\n",
            "[%] File Downloaded !\n",
            "\n",
            "[%] Downloading Image #24 from https://viralcats.net/blog/wp-content/uploads/2017/10/10-12.jpg\n",
            "[%] File Downloaded !\n",
            "\n",
            "\n",
            "\n",
            "[!!]Indexing page: 3\n",
            "\n",
            "[%] Indexed 11 Images on Page 3.\n",
            "\n",
            "===============================================\n",
            "\n",
            "[%] Downloading Image #25 from http://www.trendzified.net/wp-content/uploads/2014/10/upnqw-cats7.jpg\n",
            "[%] File Downloaded !\n",
            "\n",
            "[%] Downloading Image #26 from https://viralcats.net/blog/wp-content/uploads/2017/10/10-12.jpg\n",
            "[%] File Downloaded !\n",
            "\n",
            "[%] Downloading Image #27 from https://i.chzbgr.com/original/7162250240/h8C52629F/cheezburger-image-7162250240\n",
            "[%] File Downloaded !\n",
            "\n",
            "[%] Downloading Image #28 from http://www.funcage.com/blog/wp-content/uploads/2013/01/Daily-Dose-of-Cats-013-550x733.jpg\n",
            "[%] File Downloaded !\n",
            "\n",
            "[%] Downloading Image #29 from http://lomets.com/wp-content/uploads/2016/06/97ac2c45590d8448fcca888f83ccf8f9.jpg\n",
            "[%] File Downloaded !\n",
            "\n",
            "[%] Downloading Image #30 from https://www.viraltrix.com/wp-content/uploads/2015/10/senorito-gato.jpg\n",
            "[%] File Downloaded !\n",
            "\n",
            "\n",
            "\n",
            "[%] Done. Downloaded 30 images.\n",
            "\n",
            "===============================================\n",
            "\n"
          ],
          "name": "stdout"
        }
      ]
    },
    {
      "cell_type": "code",
      "metadata": {
        "colab": {
          "base_uri": "https://localhost:8080/"
        },
        "id": "INhniiA0M_Wn",
        "outputId": "2da08dcf-1001-4805-fa8e-4fe9bdf0515a"
      },
      "source": [
        "from bing_image_downloader import downloader\n",
        "downloader.download(\"dogs image\",limit=30,output_dir='images',adult_filter_off=True)"
      ],
      "execution_count": 31,
      "outputs": [
        {
          "output_type": "stream",
          "text": [
            "\n",
            "\n",
            "[!!]Indexing page: 1\n",
            "\n",
            "[%] Indexed 12 Images on Page 1.\n",
            "\n",
            "===============================================\n",
            "\n",
            "[%] Downloading Image #1 from http://i1.ytimg.com/vi/5a1T-SARjL8/maxresdefault.jpg\n",
            "[%] File Downloaded !\n",
            "\n",
            "[%] Downloading Image #2 from http://www.fengshui-import.com/images/products/large_928_11030922.JPG\n",
            "[%] File Downloaded !\n",
            "\n",
            "[%] Downloading Image #3 from http://photos.costume-works.com/full/stormtrooper_dog1.jpg\n",
            "[%] File Downloaded !\n",
            "\n",
            "[%] Downloading Image #4 from http://wac.450f.edgecastcdn.net/80450F/thefw.com/files/2012/10/tumblr_mao6glM9lT1r2qjaxo1_400-e1350499709592.jpg\n",
            "[%] File Downloaded !\n",
            "\n",
            "[%] Downloading Image #5 from http://www.gamepur.com/files/imagepicker/6/watch-dogs-in-game-screen-2.jpg\n",
            "[%] File Downloaded !\n",
            "\n",
            "[%] Downloading Image #6 from http://i1.ytimg.com/vi/KQN8aawi5vs/maxresdefault.jpg\n",
            "[%] File Downloaded !\n",
            "\n",
            "[%] Downloading Image #7 from http://www.organic-pet-digest.com/images/dog-wart-papilloma-or-something-else-21492175.jpg\n",
            "[%] File Downloaded !\n",
            "\n",
            "[%] Downloading Image #8 from http://www.organic-pet-digest.com/images/red-dots-under-dogs-armpit-area-with-black-scaly-looking-skin-without-hair-21472791.jpg\n",
            "[%] File Downloaded !\n",
            "\n",
            "[%] Downloading Image #9 from http://littlefun.org/uploads/524b6b7be691b20cf6c4428c_736.jpg\n",
            "[%] File Downloaded !\n",
            "\n",
            "[%] Downloading Image #10 from http://brojsimpson.com/wordpress/wp-content/uploads/2011/06/dogs_humping2.jpg\n",
            "[Error]Invalid image, not saving http://brojsimpson.com/wordpress/wp-content/uploads/2011/06/dogs_humping2.jpg\n",
            "\n",
            "[!] Issue getting: http://brojsimpson.com/wordpress/wp-content/uploads/2011/06/dogs_humping2.jpg\n",
            "[!] Error:: No active exception to reraise\n",
            "[%] Downloading Image #10 from http://s1.ibtimes.com/sites/www.ibtimes.com/files/styles/v2_article_large/public/2013/04/09/dogs-pantyhose_3.jpg\n",
            "[%] File Downloaded !\n",
            "\n",
            "[%] Downloading Image #11 from http://1.bp.blogspot.com/_duJwZMtY-A0/TGy-qun44bI/AAAAAAAABxk/sOJJt1w5zIg/s1600/LostDog.jpg\n",
            "[%] File Downloaded !\n",
            "\n",
            "\n",
            "\n",
            "[!!]Indexing page: 2\n",
            "\n",
            "[%] Indexed 12 Images on Page 2.\n",
            "\n",
            "===============================================\n",
            "\n",
            "[%] Downloading Image #12 from http://i1.ytimg.com/vi/5a1T-SARjL8/maxresdefault.jpg\n",
            "[%] File Downloaded !\n",
            "\n",
            "[%] Downloading Image #13 from http://www.fengshui-import.com/images/products/large_928_11030922.JPG\n",
            "[%] File Downloaded !\n",
            "\n",
            "[%] Downloading Image #14 from http://photos.costume-works.com/full/stormtrooper_dog1.jpg\n",
            "[%] File Downloaded !\n",
            "\n",
            "[%] Downloading Image #15 from http://wac.450f.edgecastcdn.net/80450F/thefw.com/files/2012/10/tumblr_mao6glM9lT1r2qjaxo1_400-e1350499709592.jpg\n",
            "[%] File Downloaded !\n",
            "\n",
            "[%] Downloading Image #16 from http://www.gamepur.com/files/imagepicker/6/watch-dogs-in-game-screen-2.jpg\n",
            "[%] File Downloaded !\n",
            "\n",
            "[%] Downloading Image #17 from http://i1.ytimg.com/vi/KQN8aawi5vs/maxresdefault.jpg\n",
            "[%] File Downloaded !\n",
            "\n",
            "[%] Downloading Image #18 from http://www.organic-pet-digest.com/images/dog-wart-papilloma-or-something-else-21492175.jpg\n",
            "[%] File Downloaded !\n",
            "\n",
            "[%] Downloading Image #19 from http://www.organic-pet-digest.com/images/red-dots-under-dogs-armpit-area-with-black-scaly-looking-skin-without-hair-21472791.jpg\n",
            "[%] File Downloaded !\n",
            "\n",
            "[%] Downloading Image #20 from http://littlefun.org/uploads/524b6b7be691b20cf6c4428c_736.jpg\n",
            "[%] File Downloaded !\n",
            "\n",
            "[%] Downloading Image #21 from http://brojsimpson.com/wordpress/wp-content/uploads/2011/06/dogs_humping2.jpg\n",
            "[Error]Invalid image, not saving http://brojsimpson.com/wordpress/wp-content/uploads/2011/06/dogs_humping2.jpg\n",
            "\n",
            "[!] Issue getting: http://brojsimpson.com/wordpress/wp-content/uploads/2011/06/dogs_humping2.jpg\n",
            "[!] Error:: No active exception to reraise\n",
            "[%] Downloading Image #21 from http://s1.ibtimes.com/sites/www.ibtimes.com/files/styles/v2_article_large/public/2013/04/09/dogs-pantyhose_3.jpg\n",
            "[%] File Downloaded !\n",
            "\n",
            "[%] Downloading Image #22 from http://1.bp.blogspot.com/_duJwZMtY-A0/TGy-qun44bI/AAAAAAAABxk/sOJJt1w5zIg/s1600/LostDog.jpg\n",
            "[%] File Downloaded !\n",
            "\n",
            "\n",
            "\n",
            "[!!]Indexing page: 3\n",
            "\n",
            "[%] Indexed 11 Images on Page 3.\n",
            "\n",
            "===============================================\n",
            "\n",
            "[%] Downloading Image #23 from http://puppydogweb.com/gallery/chiweenies/chiweenie_lessin.jpg\n",
            "[%] File Downloaded !\n",
            "\n",
            "[%] Downloading Image #24 from http://i1.ytimg.com/vi/Lfy1CRYYcrs/maxresdefault.jpg\n",
            "[%] File Downloaded !\n",
            "\n",
            "[%] Downloading Image #25 from http://images2.fanpop.com/image/photos/13800000/Christmas-Dogs-christmas-13861572-1024-768.jpg\n",
            "[%] File Downloaded !\n",
            "\n",
            "[%] Downloading Image #26 from http://1.bp.blogspot.com/-4SIiLyDhrBE/UHgngZPb0cI/AAAAAAAABzg/8oGFjFjTAiU/s1600/dog+shame1.png\n",
            "[%] File Downloaded !\n",
            "\n",
            "[%] Downloading Image #27 from http://quicklol.com/wp-content/uploads/2012/12/funny-dog-sleeping.jpg\n",
            "[%] File Downloaded !\n",
            "\n",
            "[%] Downloading Image #28 from http://i1.ytimg.com/vi/AQVcaOsb_Ro/maxresdefault.jpg\n",
            "[%] File Downloaded !\n",
            "\n",
            "[%] Downloading Image #29 from http://1.bp.blogspot.com/-msSoJjQW-1k/TnbyCMODW6I/AAAAAAAAAU8/ww9HVl0xI0o/s1600/1bloodhound.jpg\n",
            "[%] File Downloaded !\n",
            "\n",
            "[%] Downloading Image #30 from http://thecia.com.au/reviews/r/images/red-dog-2.jpg\n",
            "[%] File Downloaded !\n",
            "\n",
            "\n",
            "\n",
            "[%] Done. Downloaded 30 images.\n",
            "\n",
            "===============================================\n",
            "\n"
          ],
          "name": "stdout"
        }
      ]
    },
    {
      "cell_type": "code",
      "metadata": {
        "colab": {
          "base_uri": "https://localhost:8080/"
        },
        "id": "SueiRC_faoUW",
        "outputId": "1156f2ec-cdf0-46c4-bd51-c149e49ea347"
      },
      "source": [
        "import numpy as np\n",
        "\n",
        "a=np.array([1,2])\n",
        "a.ndim"
      ],
      "execution_count": 32,
      "outputs": [
        {
          "output_type": "execute_result",
          "data": {
            "text/plain": [
              "1"
            ]
          },
          "metadata": {
            "tags": []
          },
          "execution_count": 32
        }
      ]
    },
    {
      "cell_type": "code",
      "metadata": {
        "id": "M_h2InNdNT87"
      },
      "source": [
        "import os\n",
        "import matplotlib.pyplot as plt\n",
        "import numpy as np\n",
        "from skimage .io import imread\n",
        "from skimage.transform import resize\n",
        "\n",
        "target=[]\n",
        "images=[]\n",
        "flat_data=[]\n",
        "\n",
        "datadir='/content/images'\n",
        "categories=['cats image','dogs image']\n",
        "\n",
        "for category in categories:\n",
        "  class_num=categories.index(category)\n",
        "  path=os.path.join(datadir,category)\n",
        "  for img in os.listdir(path):\n",
        "    img_array = imread(os.path.join(path,img))\n",
        "    img_resized = resize(img_array,(150,150,3))\n",
        "    flat_data.append(img_resized.flatten())\n",
        "    images.append(img_resized)\n",
        "    target.append(class_num)\n",
        "\n",
        "flat_data=np.array(flat_data)\n",
        "target=np.array(target)\n",
        "images=np.array(images)"
      ],
      "execution_count": 33,
      "outputs": []
    },
    {
      "cell_type": "code",
      "metadata": {
        "colab": {
          "base_uri": "https://localhost:8080/"
        },
        "id": "9bIKJUVoOZ78",
        "outputId": "fe58a759-8fd4-430a-edc3-a71a3e11af8a"
      },
      "source": [
        "flat_data[0]"
      ],
      "execution_count": 34,
      "outputs": [
        {
          "output_type": "execute_result",
          "data": {
            "text/plain": [
              "array([0.08169935, 0.04705882, 0.0375817 , ..., 0.4869281 , 0.44346405,\n",
              "       0.43169935])"
            ]
          },
          "metadata": {
            "tags": []
          },
          "execution_count": 34
        }
      ]
    },
    {
      "cell_type": "code",
      "metadata": {
        "colab": {
          "base_uri": "https://localhost:8080/",
          "height": 282
        },
        "id": "6aE-o2DefwXl",
        "outputId": "0983e933-9167-4bbd-ceec-b06f5f876c6d"
      },
      "source": [
        "unique,count=np.unique(target,return_counts=True)\n",
        "plt.bar(categories,count)"
      ],
      "execution_count": 35,
      "outputs": [
        {
          "output_type": "execute_result",
          "data": {
            "text/plain": [
              "<BarContainer object of 2 artists>"
            ]
          },
          "metadata": {
            "tags": []
          },
          "execution_count": 35
        },
        {
          "output_type": "display_data",
          "data": {
            "image/png": "[encoded data removed]",
            "text/plain": [
              "<Figure size 432x288 with 1 Axes>"
            ]
          },
          "metadata": {
            "tags": [],
            "needs_background": "light"
          }
        }
      ]
    },
    {
      "cell_type": "code",
      "metadata": {
        "id": "Ymr5FvRKgMNm"
      },
      "source": [
        "from sklearn.model_selection import train_test_split\n",
        "x_train,x_test,y_train,y_test=train_test_split(flat_data,target,test_size=.3,random_state=100)"
      ],
      "execution_count": 36,
      "outputs": []
    },
    {
      "cell_type": "code",
      "metadata": {
        "colab": {
          "base_uri": "https://localhost:8080/"
        },
        "id": "2Ezrc0MIgw4I",
        "outputId": "98bba5f4-3a55-49c0-d4d2-0e13c57fc377"
      },
      "source": [
        "from sklearn.model_selection import GridSearchCV\n",
        "from sklearn import svm\n",
        "param_grid=[\n",
        "            {'C':[1,10,100,1000],'kernel':['linear']},\n",
        "            {'C':[1,10,100,1000],'gamma':[0.001,0.0001],'kernel':['rbf']},\n",
        "]\n",
        "\n",
        "svc=svm.SVC(probability=True)\n",
        "clf=GridSearchCV(svc,param_grid)\n",
        "clf.fit(x_train,y_train)"
      ],
      "execution_count": 37,
      "outputs": [
        {
          "output_type": "execute_result",
          "data": {
            "text/plain": [
              "GridSearchCV(cv=None, error_score=nan,\n",
              "             estimator=SVC(C=1.0, break_ties=False, cache_size=200,\n",
              "                           class_weight=None, coef0=0.0,\n",
              "                           decision_function_shape='ovr', degree=3,\n",
              "                           gamma='scale', kernel='rbf', max_iter=-1,\n",
              "                           probability=True, random_state=None, shrinking=True,\n",
              "                           tol=0.001, verbose=False),\n",
              "             iid='deprecated', n_jobs=None,\n",
              "             param_grid=[{'C': [1, 10, 100, 1000], 'kernel': ['linear']},\n",
              "                         {'C': [1, 10, 100, 1000], 'gamma': [0.001, 0.0001],\n",
              "                          'kernel': ['rbf']}],\n",
              "             pre_dispatch='2*n_jobs', refit=True, return_train_score=False,\n",
              "             scoring=None, verbose=0)"
            ]
          },
          "metadata": {
            "tags": []
          },
          "execution_count": 37
        }
      ]
    },
    {
      "cell_type": "code",
      "metadata": {
        "colab": {
          "base_uri": "https://localhost:8080/"
        },
        "id": "_PzVI2hAlvbP",
        "outputId": "57bc1a28-e79e-48ff-c0ee-60bdec122fe9"
      },
      "source": [
        "y_pred=clf.predict(x_test)\n",
        "y_pred"
      ],
      "execution_count": 38,
      "outputs": [
        {
          "output_type": "execute_result",
          "data": {
            "text/plain": [
              "array([1, 0, 1, 1, 1, 0, 1, 1, 0, 1, 0, 1, 0, 1, 1, 1, 0, 1, 0, 1])"
            ]
          },
          "metadata": {
            "tags": []
          },
          "execution_count": 38
        }
      ]
    },
    {
      "cell_type": "code",
      "metadata": {
        "colab": {
          "base_uri": "https://localhost:8080/"
        },
        "id": "wOuhJNoImKOj",
        "outputId": "2fcfa31a-fad8-40e7-f528-58c659c50e49"
      },
      "source": [
        "y_test"
      ],
      "execution_count": 39,
      "outputs": [
        {
          "output_type": "execute_result",
          "data": {
            "text/plain": [
              "array([1, 0, 0, 1, 1, 0, 1, 0, 0, 1, 0, 0, 0, 1, 1, 0, 0, 1, 0, 1])"
            ]
          },
          "metadata": {
            "tags": []
          },
          "execution_count": 39
        }
      ]
    },
    {
      "cell_type": "code",
      "metadata": {
        "id": "PXbwaL1KmWxw"
      },
      "source": [
        "from sklearn.metrics import accuracy_score,confusion_matrix"
      ],
      "execution_count": 40,
      "outputs": []
    },
    {
      "cell_type": "code",
      "metadata": {
        "colab": {
          "base_uri": "https://localhost:8080/"
        },
        "id": "a-KxPhNCoKIa",
        "outputId": "d9897941-2f1e-4d76-abab-c8063c1f2fc1"
      },
      "source": [
        "accuracy_score(y_pred,y_test)"
      ],
      "execution_count": 41,
      "outputs": [
        {
          "output_type": "execute_result",
          "data": {
            "text/plain": [
              "0.8"
            ]
          },
          "metadata": {
            "tags": []
          },
          "execution_count": 41
        }
      ]
    },
    {
      "cell_type": "code",
      "metadata": {
        "colab": {
          "base_uri": "https://localhost:8080/"
        },
        "id": "B47kXXrFoiUV",
        "outputId": "097f90e0-c321-4fc9-bd5c-77f1a3c45d5c"
      },
      "source": [
        "confusion_matrix(y_pred,y_test)"
      ],
      "execution_count": 42,
      "outputs": [
        {
          "output_type": "execute_result",
          "data": {
            "text/plain": [
              "array([[7, 0],\n",
              "       [4, 9]])"
            ]
          },
          "metadata": {
            "tags": []
          },
          "execution_count": 42
        }
      ]
    },
    {
      "cell_type": "code",
      "metadata": {
        "id": "I0-kIRPfouxN"
      },
      "source": [
        "import pickle\n",
        "pickle.dump(clf,open('img_model.p','wb'))"
      ],
      "execution_count": 43,
      "outputs": []
    },
    {
      "cell_type": "code",
      "metadata": {
        "id": "rlbfE1fAu2ow"
      },
      "source": [
        "model=pickle.load(open('img_model.p','rb'))"
      ],
      "execution_count": 44,
      "outputs": []
    },
    {
      "cell_type": "code",
      "metadata": {
        "id": "DAq5QqVmvL4X",
        "colab": {
          "base_uri": "https://localhost:8080/",
          "height": 320
        },
        "outputId": "d6197304-1955-45ca-d7ed-e862ee89a2e9"
      },
      "source": [
        "flat_data = []\n",
        "url = input('Enter the URL')\n",
        "img = imread(url)\n",
        "img_resized = resize(img,(150,150,3))\n",
        "flat_data.append(img_resized.flatten())\n",
        "flat_data=np.array(flat_data)\n",
        "print(img.shape)\n",
        "plt.imshow(img_resized)\n",
        "y_out=model.predict(flat_data)\n",
        "y_out=categories[y_out[0]]\n",
        "print(f'Predicted Output:{y_out}')"
      ],
      "execution_count": 54,
      "outputs": [
        {
          "output_type": "stream",
          "text": [
            "Enter the URLhttps://www.akc.org/wp-content/themes/akc/component-library/assets/img/welcome.jpg\n",
            "(452, 400, 3)\n",
            "Predicted Output:dogs image\n"
          ],
          "name": "stdout"
        },
        {
          "output_type": "display_data",
          "data": {
            "image/png": "[encoded data removed]",
            "text/plain": [
              "<Figure size 432x288 with 1 Axes>"
            ]
          },
          "metadata": {
            "tags": [],
            "needs_background": "light"
          }
        }
      ]
    },
    {
      "cell_type": "code",
      "metadata": {
        "id": "skazzqflwHxR"
      },
      "source": [
        ""
      ],
      "execution_count": null,
      "outputs": []
    }
  ]
}